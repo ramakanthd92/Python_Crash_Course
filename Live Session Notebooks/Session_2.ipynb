{
  "nbformat": 4,
  "nbformat_minor": 0,
  "metadata": {
    "kernelspec": {
      "display_name": "Python 3",
      "language": "python",
      "name": "python3"
    },
    "language_info": {
      "codemirror_mode": {
        "name": "ipython",
        "version": 3
      },
      "file_extension": ".py",
      "mimetype": "text/x-python",
      "name": "python",
      "nbconvert_exporter": "python",
      "pygments_lexer": "ipython3",
      "version": "3.7.6"
    },
    "colab": {
      "name": "Session-2.ipynb",
      "provenance": [],
      "collapsed_sections": []
    }
  },
  "cells": [
    {
      "cell_type": "code",
      "metadata": {
        "id": "ZJPXkZ7fvuv1",
        "colab_type": "code",
        "colab": {}
      },
      "source": [
        "# Variables\n",
        "# Strings\n",
        "# Lists & Tuples\n",
        "\n",
        "# Sets\n",
        "# Dictionaries\n",
        "\n",
        "\n",
        "# Conditionals - If Else\n",
        "# Loops - For Loops, lists, sets, dictionaries\n",
        "\n",
        "\n",
        "# Functions\n",
        "\n",
        "# Lambda functions\n",
        "# Map/Reduce/Filter\n",
        "# Comprehensions\n",
        "\n",
        "# Classes\n"
      ],
      "execution_count": null,
      "outputs": []
    },
    {
      "cell_type": "code",
      "metadata": {
        "id": "NllIH5kKvuv6",
        "colab_type": "code",
        "colab": {},
        "outputId": "b24ff15c-4cd6-4066-af85-ed55de9be32d"
      },
      "source": [
        "# Sets\n",
        "\n",
        "\n",
        "\n",
        "s = set([1,2,3,4,1,2,3])\n",
        "t = {1,2,3,3,4,1}\n",
        "\n",
        "print(s,t)\n",
        "print(type(t),type(s))\n",
        "\n",
        "\n",
        "# No Indexing in sets\n",
        "\n",
        "#Membership Operator\n",
        "5 not in s \n",
        "\n",
        "s = {1,2,3}\n",
        "t = {3,4,5}\n",
        "\n",
        "# Set Operations\n",
        "\n",
        "# Union \n",
        "s | t\n",
        "\n",
        "\n",
        "s.union(t)\n",
        "\n",
        "# Intersection\n",
        "\n",
        "s & t\n",
        "\n",
        "s.intersection(t)\n",
        "\n",
        "# Difference\n",
        "s-t\n",
        "\n",
        "s.difference(t)\n",
        "\n",
        "# Mutability\n",
        "\n",
        "s.add(4)\n",
        "print(s)\n",
        "\n",
        "s.remove(3)\n",
        "print(s)\n",
        "\n",
        "del s\n",
        "\n",
        "print(s)\n",
        "\n",
        "s = {1,2,3}\n",
        "s.add(3)\n",
        "print(s)\n",
        "\n",
        "# Concatenation\n",
        "\n",
        "s = {1,2,3}\n",
        "\n",
        "t = {4,5,6}\n",
        "\n",
        "\n",
        "help(set)\n",
        "\n",
        "s = {1,2,3}\n",
        "t = {3,4,5}\n",
        "\n",
        "s== t\n",
        "\n",
        "s = {1,2,3}\n",
        "u = {1,2,3}\n",
        "\n",
        "s== u\n",
        "\n",
        "len(s)\n",
        "\n",
        "s.__sizeof__()\n",
        "\n",
        "s ^ t\n",
        "\n",
        "print(s,t)"
      ],
      "execution_count": null,
      "outputs": [
        {
          "output_type": "stream",
          "text": [
            "{1, 2, 3, 4} {1, 2, 3, 4}\n",
            "<class 'set'> <class 'set'>\n"
          ],
          "name": "stdout"
        }
      ]
    },
    {
      "cell_type": "code",
      "metadata": {
        "id": "xwbVbujVvuv-",
        "colab_type": "code",
        "colab": {}
      },
      "source": [
        "# Group Anagrams\n",
        "\n",
        "# 1. Given a list of strings, we want to find how many groups of anagrams are there ? \n",
        "\n",
        "Input: [\"hat\",\"tah\",\"aht\",\"nab\",\"ban\",\"anb\", \"can\", \"nac\"]\n",
        "Output: 3\n",
        "Exp: [[\"hat\",\"tah\",\"aht\"],[\"nab\",\"ban\",\"anb\"],[\"can\", \"nac\"]]\n",
        "    \n",
        "\n",
        "# Group Anagrams\n",
        "\n",
        "[\"hat\",\"tah\",\"aht\",\"run\"]\n",
        "\n",
        "s1 = \"hat\"\n",
        "s2 =\"tah\"\n",
        "\n",
        "sorted(s1)==sorted(s2) \n",
        "\n",
        "print(sorted(s1))\n",
        "print(sorted(s2))\n",
        "\n",
        "l = [\"hat\",\"tah\",\"aht\",\"nab\",\"ban\",\"anb\", \"can\", \"nac\"]\n",
        "s = set({})\n",
        "for w in l:\n",
        "    s.add(tuple(sorted(w)))\n",
        "\n",
        "print(s)\n",
        "\n",
        "s = set()\n",
        "s.add((1,2,3,4))\n",
        "print(s)\n",
        "\n",
        "d = {}\n",
        "d[(1,2)] = 1\n",
        "print(d)\n",
        "\n",
        "s.add(\"abc\")\n",
        "s.add(1)\n",
        "\n",
        "print(s)"
      ],
      "execution_count": null,
      "outputs": []
    },
    {
      "cell_type": "code",
      "metadata": {
        "id": "aTwchtdzvuwB",
        "colab_type": "code",
        "colab": {},
        "outputId": "5d6df463-df64-4435-b371-789abf4ba382"
      },
      "source": [
        "# Dictionaries\n",
        "\n",
        "# dictionary = {key1:value1, key2:value2}\n",
        "\n",
        "#l = [1,2,3,4,5]\n",
        "#l = [[1,2,3], (1,2,3), \"abcn\", ]\n",
        "\n",
        "user = {'name': 'John', \n",
        "        'address' : [\"Mumbai\", \"Maharashtara\", \"India\", 560103], \n",
        "        'is_online' : True,\n",
        "        'name' : 'Paul'}\n",
        "\n",
        "print(user)\n",
        "\n",
        "# Indexing\n",
        "\n",
        "user[\"name\"]\n",
        "\n",
        "user[\"address\"]\n",
        "\n",
        "user[\"is_online\"]\n",
        "\n",
        "\"name\" in user\n",
        "\n",
        "user[\"phone_num\"]\n",
        "\n",
        "if \"phone_num\" in user:\n",
        "    print(user[\"phone_num\"])\n",
        "else:\n",
        "    print(\"phone number not found\")\n",
        "\n",
        "if \"name\" in user:\n",
        "    print(user[\"name\"])\n",
        "else:\n",
        "    print(\"phone number not found\")\n",
        "\n",
        "# Mutability\n",
        "user[\"phone_num\"] = '555-5555-555'\n",
        "print(user)\n",
        "\n",
        "\n",
        "user[\"name\"] = \"Harry\"\n",
        "print(user)\n",
        "\n",
        "user[\"address\"][3]\n",
        "\n",
        "user[\"address\"][3] = 123141\n",
        "print(user)\n",
        "\n",
        "help(dict)\n",
        "\n",
        "d = {}\n",
        "s = set()\n",
        "t = set({})\n",
        "print(type(s),type(d),type(t))\n",
        "\n",
        "p = {'name': 'Paul', 'address': ['Mumbai', 'Maharashtara', 'India', 560103], 'is_online': True, 'phone_num': '555-5555-555'}\n",
        "\n",
        "print(p,type(p))\n",
        "\n",
        "p.keys()\n",
        "\n",
        "p.values()\n",
        "\n",
        "type(p.items())\n",
        "\n",
        "del p[\"name\"]\n",
        "\n",
        "print(p)\n",
        "\n",
        "del p\n",
        "print(p)\n",
        "\n",
        "# Find the number of occurences of each city in a given list\n",
        "\n",
        "inp = [\"Bangalore\", \"Chennai\", \"Delhi\", \"Mumbai\",\"Bangalore\", \"Chennai\", \"Guwahati\"]\n",
        "\n",
        "output = {\"Bangalore\" : 2, \"Chennai\" : 2, \"Mumbai\" :1 , \"Delhi\": 1, \"Guwahati\" : 1}\n",
        "\n",
        "\n",
        "def find_occurences(inp):\n",
        "    output = {}\n",
        "    # Your Code here\n",
        "    for s in inp: \n",
        "        occurance = inp.count(s)\n",
        "        output[s] = occurance \n",
        "    return output\n",
        "\n",
        "\n",
        "find_occurences(inp)\n",
        "\n",
        "def find_occurences(inp):\n",
        "    output = {}\n",
        "    for s in inp: \n",
        "        if s not in output:\n",
        "            output[s] = 1  # Adding a new key value pair\n",
        "        else:\n",
        "            output[s] += 1 # Updating the value for that key\n",
        "    return output\n",
        "\n",
        "find_occurences(inp)\n",
        "\n",
        "def CountFrequency(my_list):   \n",
        "    count = {} \n",
        "    for i in my_list: \n",
        "        count[i] = count.get(i, 0) + 1\n",
        "    return count \n",
        "  \n",
        "if __name__ == \"__main__\":  \n",
        "    my_list = [\"Bangalore\", \"Chennai\", \"Delhi\", \"Mumbai\",\"Bangalore\", \"Chennai\", \"Guwahati\"]\n",
        "    print(CountFrequency(my_list)) "
      ],
      "execution_count": null,
      "outputs": [
        {
          "output_type": "stream",
          "text": [
            "{'name': 'Paul', 'address': ['Mumbai', 'Maharashtara', 'India', 560103], 'is_online': True}\n"
          ],
          "name": "stdout"
        }
      ]
    },
    {
      "cell_type": "code",
      "metadata": {
        "id": "FvL5YWs2vuwE",
        "colab_type": "code",
        "colab": {}
      },
      "source": [
        "# If/ Else conditions are used to decide to do something based on something being true or false\t\t\n",
        "\n",
        "# Comparison Operators (==, !=, >, <, >=, <=) - Used to compare values\t\t\n",
        "\n",
        "# Simple If statement\n",
        "\n",
        "x = 3\n",
        "y = 4 \n",
        "\n",
        "if x > y :\n",
        "    print(f'{x} is greater than {y}')\n"
      ],
      "execution_count": null,
      "outputs": []
    },
    {
      "cell_type": "code",
      "metadata": {
        "id": "79gklgdEvuwG",
        "colab_type": "code",
        "colab": {},
        "outputId": "d08facec-3894-4d34-dd93-6687f5b83ab7"
      },
      "source": [
        "# If else\n",
        "\n",
        "if x > y :\n",
        "    print(f'{x} is greater than {y}')\n",
        "else:\n",
        "    print(f'{x} is less  than {y}')\n",
        "\n"
      ],
      "execution_count": null,
      "outputs": [
        {
          "output_type": "stream",
          "text": [
            "3 is less  than 4\n"
          ],
          "name": "stdout"
        }
      ]
    },
    {
      "cell_type": "code",
      "metadata": {
        "id": "dKyHc0c-vuwK",
        "colab_type": "code",
        "colab": {},
        "outputId": "40083a17-e98a-471b-8dfe-282f067d41d0"
      },
      "source": [
        "x = 3\n",
        "y = 4\n",
        "\n",
        "if x > y :\n",
        "    print(f'{x} is greater than {y}')\n",
        "elif x == y :\n",
        "    print(f'{x} is equal than {y}')\n",
        "else:  \n",
        "    print(f'{x} is less  than {y}')\n"
      ],
      "execution_count": null,
      "outputs": [
        {
          "output_type": "stream",
          "text": [
            "3 is less  than 4\n"
          ],
          "name": "stdout"
        }
      ]
    },
    {
      "cell_type": "code",
      "metadata": {
        "id": "r7o8rw1KvuwN",
        "colab_type": "code",
        "colab": {},
        "outputId": "525c48ab-69b6-441b-9876-eae8e8b961bc"
      },
      "source": [
        "# Nested if \n",
        "x = 2\n",
        "y = 5\n",
        "z = 10\n",
        "if z > x :\n",
        "    if x == y:\n",
        "        print(f'{x} is euqal to than {y}')\n"
      ],
      "execution_count": null,
      "outputs": [
        {
          "output_type": "stream",
          "text": [
            "3 is euqal to than 3\n"
          ],
          "name": "stdout"
        }
      ]
    },
    {
      "cell_type": "code",
      "metadata": {
        "id": "0HyMk4zkvuwQ",
        "colab_type": "code",
        "colab": {},
        "outputId": "6a64adba-4fc5-4ece-92c1-d705ce0621dd"
      },
      "source": [
        "x = 2\n",
        "y = 5\n",
        "z = 10\n",
        "l = [1,2,3,4,5,6]\n",
        "if x not in l:\n",
        "     print(f'{x} is not present in {l} ')\n",
        "else:\n",
        "     print(f'{x} is  present in {l} ')\n"
      ],
      "execution_count": null,
      "outputs": [
        {
          "output_type": "stream",
          "text": [
            "2 is not present in [1, 2, 3, 4, 5, 6] \n"
          ],
          "name": "stdout"
        }
      ]
    },
    {
      "cell_type": "code",
      "metadata": {
        "id": "h3XX2MCnvuwS",
        "colab_type": "code",
        "colab": {},
        "outputId": "583e25f6-f176-486a-f79a-96d741af8ab6"
      },
      "source": [
        "x = [1,2,3]\n",
        "y = [2,3,4]\n",
        "\n",
        "\n",
        "if x is not y:\n",
        "    print(f'{x} not equals {y} ') \n",
        "    \n",
        "    "
      ],
      "execution_count": null,
      "outputs": [
        {
          "output_type": "stream",
          "text": [
            "[1, 2, 3] not equals [2, 3, 4] \n"
          ],
          "name": "stdout"
        }
      ]
    },
    {
      "cell_type": "code",
      "metadata": {
        "id": "RzoXijDQvuwU",
        "colab_type": "code",
        "colab": {}
      },
      "source": [
        "\n",
        "\n",
        "# Logical operators (and/ &, or /|, not/!) - Used to combine conditional statements\t\t\n",
        "\n",
        "\n",
        "\n",
        "\n",
        "# Membership Operators (in, not in) - Membership operators are used to test if a sequence is presented in an object\t\t\n",
        "\n",
        "\n",
        "\n",
        "\n",
        "# Identity Operators (is, is not) - Compare the objects, not if they are equal, but if they are actually the same object, with the same memory location:\t\t\n",
        "\n",
        "\n",
        "\n",
        "\n"
      ],
      "execution_count": null,
      "outputs": []
    },
    {
      "cell_type": "code",
      "metadata": {
        "id": "EKwTCQI_vuwW",
        "colab_type": "code",
        "colab": {},
        "outputId": "675fecdb-928f-42e3-db51-96b5e17cbfe6"
      },
      "source": [
        "# loops\n",
        "\n",
        "#Iterate over sequences like lists, tuples, dictionaries, strings and each item of them \n",
        "\n",
        "# Counter based loops\n",
        "\n",
        "# Simple for loop\n",
        "lis = [1,2,4,45,6]\n",
        "for s in lis:\n",
        "    print(s)\n"
      ],
      "execution_count": null,
      "outputs": [
        {
          "output_type": "stream",
          "text": [
            "1\n",
            "2\n",
            "4\n",
            "45\n",
            "6\n"
          ],
          "name": "stdout"
        }
      ]
    },
    {
      "cell_type": "code",
      "metadata": {
        "id": "7-63TBKZvuwY",
        "colab_type": "code",
        "colab": {},
        "outputId": "f9e0d591-faeb-48d6-9a08-e1203138d780"
      },
      "source": [
        "\n",
        "tup = (1,2,4,45,6)\n",
        "for s in tup:\n",
        "    print(s)\n",
        "\n"
      ],
      "execution_count": null,
      "outputs": [
        {
          "output_type": "stream",
          "text": [
            "1\n",
            "2\n",
            "4\n",
            "45\n",
            "6\n"
          ],
          "name": "stdout"
        }
      ]
    },
    {
      "cell_type": "code",
      "metadata": {
        "id": "_yqqO-1Avuwa",
        "colab_type": "code",
        "colab": {},
        "outputId": "3b01a24a-6687-453f-9db6-78955b2b071f"
      },
      "source": [
        "string = \"Introduction to Python\"\n",
        "for s in string:\n",
        "    print(s)\n",
        "\n"
      ],
      "execution_count": null,
      "outputs": [
        {
          "output_type": "stream",
          "text": [
            "I\n",
            "n\n",
            "t\n",
            "r\n",
            "o\n",
            "d\n",
            "u\n",
            "c\n",
            "t\n",
            "i\n",
            "o\n",
            "n\n",
            " \n",
            "t\n",
            "o\n",
            " \n",
            "P\n",
            "y\n",
            "t\n",
            "h\n",
            "o\n",
            "n\n"
          ],
          "name": "stdout"
        }
      ]
    },
    {
      "cell_type": "code",
      "metadata": {
        "id": "HytfseSDvuwd",
        "colab_type": "code",
        "colab": {},
        "outputId": "b57dbc83-ab20-4ceb-cac2-19542100f794"
      },
      "source": [
        "l = [1,2,3,4,5]\n",
        "\n",
        "for i in l:\n",
        "    print(i)\n",
        "    l.remove(4)\n"
      ],
      "execution_count": null,
      "outputs": [
        {
          "output_type": "stream",
          "text": [
            "1\n",
            "2\n"
          ],
          "name": "stdout"
        },
        {
          "output_type": "error",
          "ename": "ValueError",
          "evalue": "list.remove(x): x not in list",
          "traceback": [
            "\u001b[0;31m---------------------------------------------------------------------------\u001b[0m",
            "\u001b[0;31mValueError\u001b[0m                                Traceback (most recent call last)",
            "\u001b[0;32m<ipython-input-1-b4747139635e>\u001b[0m in \u001b[0;36m<module>\u001b[0;34m\u001b[0m\n\u001b[1;32m      3\u001b[0m \u001b[0;32mfor\u001b[0m \u001b[0mi\u001b[0m \u001b[0;32min\u001b[0m \u001b[0ml\u001b[0m\u001b[0;34m:\u001b[0m\u001b[0;34m\u001b[0m\u001b[0;34m\u001b[0m\u001b[0m\n\u001b[1;32m      4\u001b[0m     \u001b[0mprint\u001b[0m\u001b[0;34m(\u001b[0m\u001b[0mi\u001b[0m\u001b[0;34m)\u001b[0m\u001b[0;34m\u001b[0m\u001b[0;34m\u001b[0m\u001b[0m\n\u001b[0;32m----> 5\u001b[0;31m     \u001b[0ml\u001b[0m\u001b[0;34m.\u001b[0m\u001b[0mremove\u001b[0m\u001b[0;34m(\u001b[0m\u001b[0;36m4\u001b[0m\u001b[0;34m)\u001b[0m\u001b[0;34m\u001b[0m\u001b[0;34m\u001b[0m\u001b[0m\n\u001b[0m",
            "\u001b[0;31mValueError\u001b[0m: list.remove(x): x not in list"
          ]
        }
      ]
    },
    {
      "cell_type": "code",
      "metadata": {
        "id": "mSoxMeSvvuwf",
        "colab_type": "code",
        "colab": {}
      },
      "source": [
        "\n",
        "# Event based loops\n",
        "\n",
        "#while\n",
        "\n"
      ],
      "execution_count": null,
      "outputs": []
    },
    {
      "cell_type": "code",
      "metadata": {
        "id": "3Eu1udt-vuwh",
        "colab_type": "code",
        "colab": {},
        "outputId": "f0b63c5c-79c8-4f23-f774-a0f45cd7eb59"
      },
      "source": [
        "d = {1:\"apple\", 2:\"pine apple\", 3: \"orange\"}\n",
        "\n",
        "for k in sorted(d.keys()):\n",
        "    print(k, d[k])"
      ],
      "execution_count": null,
      "outputs": [
        {
          "output_type": "stream",
          "text": [
            "1 apple\n",
            "2 pine apple\n",
            "3 orange\n"
          ],
          "name": "stdout"
        }
      ]
    },
    {
      "cell_type": "code",
      "metadata": {
        "id": "5vLZTfT6vuwj",
        "colab_type": "code",
        "colab": {},
        "outputId": "a8e7d664-b697-4192-e7b4-5ce1240219fe"
      },
      "source": [
        "d = {1:\"apple\", 2:\"pine apple\", 3: \"orange\"}\n",
        "\n",
        "for v in sorted(d.values()):\n",
        "    print(v)"
      ],
      "execution_count": null,
      "outputs": [
        {
          "output_type": "stream",
          "text": [
            "apple\n",
            "orange\n",
            "pine apple\n"
          ],
          "name": "stdout"
        }
      ]
    },
    {
      "cell_type": "code",
      "metadata": {
        "id": "qMYWF2LKvuwm",
        "colab_type": "code",
        "colab": {},
        "outputId": "3f5f21b8-d303-43d4-a4ff-3850f1616d5c"
      },
      "source": [
        "d = {1:\"apple\", 2:\"pine apple\", 3: \"orange\"}\n",
        "\n",
        "for v in d.items():\n",
        "    print(v)"
      ],
      "execution_count": null,
      "outputs": [
        {
          "output_type": "stream",
          "text": [
            "(1, 'apple')\n",
            "(2, 'pine apple')\n",
            "(3, 'orange')\n"
          ],
          "name": "stdout"
        }
      ]
    },
    {
      "cell_type": "code",
      "metadata": {
        "id": "vbs322Atvuwo",
        "colab_type": "code",
        "colab": {},
        "outputId": "1b5eefc5-94bf-4c69-f52e-50ba6b0f123a"
      },
      "source": [
        "d = {1:\"apple\", 2:\"pine apple\", 3: \"orange\"}\n",
        "\n",
        "for k,v in d.items():\n",
        "    print(k,v)"
      ],
      "execution_count": null,
      "outputs": [
        {
          "output_type": "stream",
          "text": [
            "1 apple\n",
            "2 pine apple\n",
            "3 orange\n"
          ],
          "name": "stdout"
        }
      ]
    },
    {
      "cell_type": "code",
      "metadata": {
        "id": "4_YZ0XvPvuwq",
        "colab_type": "code",
        "colab": {},
        "outputId": "c890e8b6-2709-4f5f-8b14-070eff25f014"
      },
      "source": [
        "\n",
        "l = [\"Sara\", \"Jane\", \"Kali\"]\n",
        "for n in l:\n",
        "    print(n)\n",
        "    if n == \"Jane\":\n",
        "        break\n",
        "    \n",
        "\n"
      ],
      "execution_count": null,
      "outputs": [
        {
          "output_type": "stream",
          "text": [
            "Sara\n",
            "Jane\n"
          ],
          "name": "stdout"
        }
      ]
    },
    {
      "cell_type": "code",
      "metadata": {
        "id": "V0k3EHaSvuwt",
        "colab_type": "code",
        "colab": {},
        "outputId": "495fe1c7-07ac-4d4b-e880-d5ebdf84ff54"
      },
      "source": [
        "for n in l:\n",
        "    if n == \"Jane\":\n",
        "        continue\n",
        "    print(n)\n",
        "    "
      ],
      "execution_count": null,
      "outputs": [
        {
          "output_type": "stream",
          "text": [
            "Sara\n",
            "Kali\n"
          ],
          "name": "stdout"
        }
      ]
    },
    {
      "cell_type": "code",
      "metadata": {
        "id": "XQZTGgAnvuwx",
        "colab_type": "code",
        "colab": {},
        "outputId": "acf066b1-a39e-4053-867c-58137ee4f314"
      },
      "source": [
        "#range(n) \n",
        "#range(m,n) \n",
        "#range(m,n,t) \n",
        "list(range(10))"
      ],
      "execution_count": null,
      "outputs": [
        {
          "output_type": "execute_result",
          "data": {
            "text/plain": [
              "[0, 1, 2, 3, 4, 5, 6, 7, 8, 9]"
            ]
          },
          "metadata": {
            "tags": []
          },
          "execution_count": 10
        }
      ]
    },
    {
      "cell_type": "code",
      "metadata": {
        "id": "7YMpVKgnvuwz",
        "colab_type": "code",
        "colab": {},
        "outputId": "2b3ac27a-5f48-46f4-d239-d02e1b3f46b2"
      },
      "source": [
        "list(range(1,10))"
      ],
      "execution_count": null,
      "outputs": [
        {
          "output_type": "execute_result",
          "data": {
            "text/plain": [
              "[1, 2, 3, 4, 5, 6, 7, 8, 9]"
            ]
          },
          "metadata": {
            "tags": []
          },
          "execution_count": 11
        }
      ]
    },
    {
      "cell_type": "code",
      "metadata": {
        "id": "QyYWnzibvuw1",
        "colab_type": "code",
        "colab": {},
        "outputId": "4a3192f4-b38a-4c4f-db07-5889c03d864d"
      },
      "source": [
        "list(range(1,10,2))"
      ],
      "execution_count": null,
      "outputs": [
        {
          "output_type": "execute_result",
          "data": {
            "text/plain": [
              "[1, 3, 5, 7, 9]"
            ]
          },
          "metadata": {
            "tags": []
          },
          "execution_count": 12
        }
      ]
    },
    {
      "cell_type": "code",
      "metadata": {
        "id": "FHhXFYrVvuw3",
        "colab_type": "code",
        "colab": {}
      },
      "source": [
        "#Python 2.7\n",
        "# range()\n",
        "# xrange() \n",
        "\n",
        "#Python 3.6\n",
        "# range()"
      ],
      "execution_count": null,
      "outputs": []
    },
    {
      "cell_type": "code",
      "metadata": {
        "id": "cG1ORDn_vuw5",
        "colab_type": "code",
        "colab": {},
        "outputId": "d443a077-b1eb-4fc8-eba3-73f98ec9361f"
      },
      "source": [
        ""
      ],
      "execution_count": null,
      "outputs": [
        {
          "output_type": "stream",
          "text": [
            "<class 'range'>\n"
          ],
          "name": "stdout"
        }
      ]
    },
    {
      "cell_type": "code",
      "metadata": {
        "id": "HxzmK099vuw8",
        "colab_type": "code",
        "colab": {},
        "outputId": "79572237-19ae-408e-a218-8f02035e81e4"
      },
      "source": [
        ""
      ],
      "execution_count": null,
      "outputs": [
        {
          "output_type": "error",
          "ename": "TypeError",
          "evalue": "'type' object is not an iterator",
          "traceback": [
            "\u001b[0;31m---------------------------------------------------------------------------\u001b[0m",
            "\u001b[0;31mTypeError\u001b[0m                                 Traceback (most recent call last)",
            "\u001b[0;32m<ipython-input-17-357ebb8c01ce>\u001b[0m in \u001b[0;36m<module>\u001b[0;34m\u001b[0m\n\u001b[0;32m----> 1\u001b[0;31m \u001b[0mnext\u001b[0m\u001b[0;34m(\u001b[0m\u001b[0mrange\u001b[0m\u001b[0;34m)\u001b[0m\u001b[0;34m\u001b[0m\u001b[0;34m\u001b[0m\u001b[0m\n\u001b[0m",
            "\u001b[0;31mTypeError\u001b[0m: 'type' object is not an iterator"
          ]
        }
      ]
    },
    {
      "cell_type": "code",
      "metadata": {
        "id": "ckRMbzPRvuw-",
        "colab_type": "code",
        "colab": {},
        "outputId": "710c5aba-c7eb-4fec-fe53-29f249ec39f0"
      },
      "source": [
        "for i in range(10):\n",
        "    print(i)"
      ],
      "execution_count": null,
      "outputs": [
        {
          "output_type": "stream",
          "text": [
            "0\n",
            "1\n",
            "2\n",
            "3\n",
            "4\n",
            "5\n",
            "6\n",
            "7\n",
            "8\n",
            "9\n"
          ],
          "name": "stdout"
        }
      ]
    },
    {
      "cell_type": "code",
      "metadata": {
        "id": "3OeJXlndvuxA",
        "colab_type": "code",
        "colab": {},
        "outputId": "25abd749-6339-40f8-d32c-5af56e932bf5"
      },
      "source": [
        "for i in range(10):\n",
        "    if i == 5:\n",
        "        break\n",
        "    print(i)"
      ],
      "execution_count": null,
      "outputs": [
        {
          "output_type": "stream",
          "text": [
            "0\n",
            "1\n",
            "2\n",
            "3\n",
            "4\n"
          ],
          "name": "stdout"
        }
      ]
    },
    {
      "cell_type": "code",
      "metadata": {
        "id": "hKibCo74vuxB",
        "colab_type": "code",
        "colab": {},
        "outputId": "27e4b5f4-a649-464f-b0e1-f26422365e35"
      },
      "source": [
        "for i in range(5):\n",
        "    for k in range(3):\n",
        "        if k == 1:\n",
        "            break\n",
        "        print(i,k)"
      ],
      "execution_count": null,
      "outputs": [
        {
          "output_type": "stream",
          "text": [
            "0 0\n",
            "1 0\n",
            "2 0\n",
            "3 0\n",
            "4 0\n"
          ],
          "name": "stdout"
        }
      ]
    },
    {
      "cell_type": "code",
      "metadata": {
        "id": "b5uJxKedvuxD",
        "colab_type": "code",
        "colab": {},
        "outputId": "bab04a53-5756-44d9-b12b-b8186982eb2c"
      },
      "source": [
        "k = 0\n",
        "\n",
        "while k < 5:\n",
        "    print(k)\n",
        "    k +=1\n",
        "    \n",
        "     "
      ],
      "execution_count": null,
      "outputs": [
        {
          "output_type": "stream",
          "text": [
            "0\n",
            "1\n",
            "2\n",
            "3\n",
            "4\n"
          ],
          "name": "stdout"
        }
      ]
    },
    {
      "cell_type": "code",
      "metadata": {
        "id": "WfwiOii2vuxF",
        "colab_type": "code",
        "colab": {},
        "outputId": "11443447-164f-4443-ecf7-dadedc5b657c"
      },
      "source": [
        "for i in range(5):\n",
        "    print(i)"
      ],
      "execution_count": null,
      "outputs": [
        {
          "output_type": "stream",
          "text": [
            "0\n",
            "1\n",
            "2\n",
            "3\n",
            "4\n"
          ],
          "name": "stdout"
        }
      ]
    },
    {
      "cell_type": "code",
      "metadata": {
        "id": "5tFSkZjyvuxH",
        "colab_type": "code",
        "colab": {},
        "outputId": "76e035d7-5fc8-4205-e3af-9e6f09126291"
      },
      "source": [
        "def func(a):\n",
        "    return 2*a\n",
        "\n",
        "\n",
        "l = [3,4,5,6,7,8,9]\n",
        "\n",
        "res = []\n",
        "for i in l:\n",
        "    res.append(func(i))\n",
        "\n",
        "print(res)"
      ],
      "execution_count": null,
      "outputs": [
        {
          "output_type": "stream",
          "text": [
            "[6, 8, 10, 12, 14, 16, 18]\n"
          ],
          "name": "stdout"
        }
      ]
    },
    {
      "cell_type": "code",
      "metadata": {
        "id": "IE3sTmAXvuxJ",
        "colab_type": "code",
        "colab": {},
        "outputId": "ba047be7-4b09-4bec-d24e-f7f23aa89a16"
      },
      "source": [
        "# lambda functions\n",
        "lmbd = lambda a: 2*a\n",
        "\n",
        "# first-class functions:\n",
        "# assigned to variables\n",
        "# can be passed as arguments to functions\n",
        "# returned from function as the output\n",
        "\n",
        "res = []\n",
        "for i in l:\n",
        "    res.append(lmbd(i))\n",
        "\n",
        "print(res)"
      ],
      "execution_count": null,
      "outputs": [
        {
          "output_type": "stream",
          "text": [
            "[6, 8, 10, 12, 14, 16, 18]\n"
          ],
          "name": "stdout"
        }
      ]
    },
    {
      "cell_type": "code",
      "metadata": {
        "id": "T9g53gRfvuxK",
        "colab_type": "code",
        "colab": {},
        "outputId": "257d37c9-2aef-46a9-ef8e-bbbce2bf152e"
      },
      "source": [
        "add = lambda x,y: x+y\n",
        "\n",
        "print(add(2,3))\n"
      ],
      "execution_count": null,
      "outputs": [
        {
          "output_type": "stream",
          "text": [
            "5\n"
          ],
          "name": "stdout"
        }
      ]
    },
    {
      "cell_type": "code",
      "metadata": {
        "id": "-dfC8mAivuxM",
        "colab_type": "code",
        "colab": {},
        "outputId": "93e1a8d6-7d0d-4b4b-95a5-26fe453d10b7"
      },
      "source": [
        "# lambda functinon for getting square of a number\n",
        "\n",
        "sqrl = lambda x: x**2\n",
        "\n",
        "powl= lambda x,y: pow(x,y)\n",
        "\n",
        "print(sqrl(2))\n",
        "print(powl(3,4))\n"
      ],
      "execution_count": null,
      "outputs": [
        {
          "output_type": "stream",
          "text": [
            "4\n",
            "81\n"
          ],
          "name": "stdout"
        }
      ]
    },
    {
      "cell_type": "code",
      "metadata": {
        "id": "jgTHLfL4vuxP",
        "colab_type": "code",
        "colab": {},
        "outputId": "dca943de-939d-4a40-f622-e651a4e0e5ba"
      },
      "source": [
        "def func(a):\n",
        "    return 2*a\n",
        "\n",
        "\n",
        "l = [3,4,5,6,7,8,9]\n",
        "\n",
        "res = []\n",
        "for i in l:\n",
        "    res.append(func(i))\n",
        "\n",
        "print(res)"
      ],
      "execution_count": null,
      "outputs": [
        {
          "output_type": "stream",
          "text": [
            "[6, 8, 10, 12, 14, 16, 18]\n"
          ],
          "name": "stdout"
        }
      ]
    },
    {
      "cell_type": "code",
      "metadata": {
        "id": "evWd3QPFvuxR",
        "colab_type": "code",
        "colab": {},
        "outputId": "6dc362f5-095e-442c-855c-6bcd8aaba8c0"
      },
      "source": [
        "\n",
        "# Comprehenions\n",
        "\n",
        "# List Comprehensions\n",
        "\n",
        "res = [2*i for i in l]\n",
        "print(res)"
      ],
      "execution_count": null,
      "outputs": [
        {
          "output_type": "stream",
          "text": [
            "[6, 8, 10, 12, 14, 16, 18]\n"
          ],
          "name": "stdout"
        }
      ]
    },
    {
      "cell_type": "code",
      "metadata": {
        "id": "XZ0WSCbJvuxS",
        "colab_type": "code",
        "colab": {},
        "outputId": "0d9f9ef3-1c05-4679-e35a-67a51c5eabf4"
      },
      "source": [
        "l = [3,4,5,6,7,8,9]\n",
        "res = [sqrl(i) for i in l]\n",
        "print(res)"
      ],
      "execution_count": null,
      "outputs": [
        {
          "output_type": "stream",
          "text": [
            "[9, 16, 25, 36, 49, 64, 81]\n"
          ],
          "name": "stdout"
        }
      ]
    },
    {
      "cell_type": "code",
      "metadata": {
        "id": "Vaoau-sSvuxU",
        "colab_type": "code",
        "colab": {},
        "outputId": "918c8069-7acc-4a3f-b4be-8e59ad1583fd"
      },
      "source": [
        "res = [sqrl(i) for i in l]\n",
        "print(res)"
      ],
      "execution_count": null,
      "outputs": [
        {
          "output_type": "stream",
          "text": [
            "[<function <listcomp>.<lambda> at 0x10e386440>, <function <listcomp>.<lambda> at 0x10e3864d0>, <function <listcomp>.<lambda> at 0x10e386560>, <function <listcomp>.<lambda> at 0x10e3865f0>, <function <listcomp>.<lambda> at 0x10e386680>, <function <listcomp>.<lambda> at 0x10e386710>, <function <listcomp>.<lambda> at 0x10e3867a0>]\n"
          ],
          "name": "stdout"
        }
      ]
    },
    {
      "cell_type": "code",
      "metadata": {
        "id": "CQpslTPuvuxX",
        "colab_type": "code",
        "colab": {},
        "outputId": "cc961c63-74a9-499f-9fbf-0ff930f25672"
      },
      "source": [
        "l = [3,4,5,6,7,8,9]\n",
        "v = [1,2,3,4,5,6,5]\n",
        "\n",
        "res = [i+k for i,k in zip(l,v)]\n",
        "print(list(zip(l,v))\n",
        "print(res)"
      ],
      "execution_count": null,
      "outputs": [
        {
          "output_type": "stream",
          "text": [
            "[(3, 1), (4, 2), (5, 3), (6, 4), (7, 5), (8, 6), (9, 5)]\n",
            "[4, 6, 8, 10, 12, 14, 14]\n"
          ],
          "name": "stdout"
        }
      ]
    },
    {
      "cell_type": "code",
      "metadata": {
        "id": "7E92N791vuxZ",
        "colab_type": "code",
        "colab": {},
        "outputId": "52c24bde-3374-46f9-fd92-ee38a4413074"
      },
      "source": [
        "l = [3,4,5,6,7,8,9]\n",
        "v = [1,2,3,4,5,6,5]\n",
        "\n",
        "list(zip(l,v))\n",
        "\n",
        "\n"
      ],
      "execution_count": null,
      "outputs": [
        {
          "output_type": "execute_result",
          "data": {
            "text/plain": [
              "[(3, 1), (4, 2), (5, 3), (6, 4), (7, 5), (8, 6), (9, 5)]"
            ]
          },
          "metadata": {
            "tags": []
          },
          "execution_count": 51
        }
      ]
    },
    {
      "cell_type": "code",
      "metadata": {
        "id": "wK0nUu7pvuxa",
        "colab_type": "code",
        "colab": {},
        "outputId": "c0a99233-6e03-43ab-8354-08f4f8978f24"
      },
      "source": [
        "res = [sqrl(i) for i in l if i%2 == 0 if i%4 ==0]\n",
        "print(res)"
      ],
      "execution_count": null,
      "outputs": [
        {
          "output_type": "stream",
          "text": [
            "[16, 64]\n"
          ],
          "name": "stdout"
        }
      ]
    },
    {
      "cell_type": "code",
      "metadata": {
        "id": "BeF-N1advuxc",
        "colab_type": "code",
        "colab": {},
        "outputId": "b9718043-041b-4912-fa17-ed5a73d39587"
      },
      "source": [
        "# Dict Comprehension\n",
        "\n",
        "\n",
        "res = {i:2*i for i in l}\n",
        "\n",
        "print(res)"
      ],
      "execution_count": null,
      "outputs": [
        {
          "output_type": "stream",
          "text": [
            "{3: 6, 4: 8, 5: 10, 6: 12, 7: 14, 8: 16, 9: 18}\n"
          ],
          "name": "stdout"
        }
      ]
    },
    {
      "cell_type": "code",
      "metadata": {
        "id": "DgoytU9nvuxe",
        "colab_type": "code",
        "colab": {}
      },
      "source": [
        "res = {i:2*i for i in l  if i%2 == 0 if i%4 ==0}"
      ],
      "execution_count": null,
      "outputs": []
    },
    {
      "cell_type": "code",
      "metadata": {
        "id": "tFgpzd56vuxg",
        "colab_type": "code",
        "colab": {},
        "outputId": "1f2ea071-ea6c-48af-d2cc-61bb4bf45b26"
      },
      "source": [
        "print(res)"
      ],
      "execution_count": null,
      "outputs": [
        {
          "output_type": "stream",
          "text": [
            "{4: 8, 8: 16}\n"
          ],
          "name": "stdout"
        }
      ]
    },
    {
      "cell_type": "code",
      "metadata": {
        "id": "2xbLQ2oyvuxj",
        "colab_type": "code",
        "colab": {},
        "outputId": "2e70a5e0-7f2e-489d-e395-535312dc12b6"
      },
      "source": [
        "# Map, Reduce, Filter\n",
        "\n",
        "\tmap\t\tThe map() function calls the specified function for each item of an iterable (such as string, list, tuple or dictionary) and returns a list of results\t\t\n",
        "\tmap with next\t\tThe map() function is a built-in function.\t\t\n",
        "\tmap with lambda exp\t\tmap(function, iterable [, iterable2, iterable3,...iterableN]) --> map object\t\t\n",
        "\tmap with built-in function\t\t\t\t\n",
        "\t\t\t\t\t\n",
        "\treduce\t\tThe reduce() function is defined in the functools module. Like the map and filter functions, the reduce() function receives two arguments, a function and an iterable. However, it doesn't return another iterable, instead it returns a single value\t\t\n",
        "\t\t\t\t\t\n",
        "\t\t\t\t\t\n",
        "\t\t\t\t\t\n",
        "\t\t\t\t\t\n",
        "\t\t\t\t\t\n",
        "\tfilter\t\tThe filter() function calls the specified function which returns boolen for each item of the specified iterable (list).\t\t\n",
        "\tFilter with custom method\t\tfilter(function, iterable) --> filter object\t\t\n",
        "\tFilter with Lambda expression\t\t\t\t\n"
      ],
      "execution_count": null,
      "outputs": [
        {
          "output_type": "error",
          "ename": "IndentationError",
          "evalue": "unexpected indent (<ipython-input-58-b244b085f850>, line 4)",
          "traceback": [
            "\u001b[0;36m  File \u001b[0;32m\"<ipython-input-58-b244b085f850>\"\u001b[0;36m, line \u001b[0;32m4\u001b[0m\n\u001b[0;31m    map\t\tThe map() function calls the specified function for each item of an iterable (such as string, list, tuple or dictionary) and returns a list of results\u001b[0m\n\u001b[0m    ^\u001b[0m\n\u001b[0;31mIndentationError\u001b[0m\u001b[0;31m:\u001b[0m unexpected indent\n"
          ]
        }
      ]
    },
    {
      "cell_type": "code",
      "metadata": {
        "id": "jAk7zDd8vuxm",
        "colab_type": "code",
        "colab": {},
        "outputId": "c60122c2-85c9-4ea1-a312-a357c8ceecec"
      },
      "source": [
        "#map(function, iterable [, iterable2, iterable3,...iterableN]) --> map object\n",
        "\n",
        "l = [3,4,5,6,7,8,9]\n",
        "test_map = map(sqrl,l)\n",
        "print(list(test_map))\n"
      ],
      "execution_count": null,
      "outputs": [
        {
          "output_type": "stream",
          "text": [
            "[9, 16, 25, 36, 49, 64, 81]\n"
          ],
          "name": "stdout"
        }
      ]
    },
    {
      "cell_type": "code",
      "metadata": {
        "id": "S-ww5Ppmvuxo",
        "colab_type": "code",
        "colab": {},
        "outputId": "beba2094-a677-41fd-870d-1c05b9451c55"
      },
      "source": [
        "test_map = map(lambda x: x**2,l)\n",
        "print(list(test_map))"
      ],
      "execution_count": null,
      "outputs": [
        {
          "output_type": "stream",
          "text": [
            "[9, 16, 25, 36, 49, 64, 81]\n"
          ],
          "name": "stdout"
        }
      ]
    },
    {
      "cell_type": "code",
      "metadata": {
        "id": "1jYMqfIEvuxp",
        "colab_type": "code",
        "colab": {},
        "outputId": "f204210b-8079-4626-ae9c-6cde4b5903be"
      },
      "source": [
        "def mult(a):\n",
        "    return a*4\n",
        "\n",
        "test_map = map(mult,l)\n",
        "print(list(test_map))\n"
      ],
      "execution_count": null,
      "outputs": [
        {
          "output_type": "stream",
          "text": [
            "[12, 16, 20, 24, 28, 32, 36]\n"
          ],
          "name": "stdout"
        }
      ]
    },
    {
      "cell_type": "code",
      "metadata": {
        "id": "u-bRFXk9vuxq",
        "colab_type": "code",
        "colab": {},
        "outputId": "60fb6f9c-093b-4c5d-8ab0-728481482652"
      },
      "source": [
        "def mult(a,b):\n",
        "    return a*b\n",
        "\n",
        "l = [3,4,5,6,7,8,9]\n",
        "v = [1,2,3,4,5,6,5]\n",
        "\n",
        "mult_results = map(mult,l,v)\n",
        "print(list(mult_results))\n"
      ],
      "execution_count": null,
      "outputs": [
        {
          "output_type": "stream",
          "text": [
            "[3, 8, 15, 24, 35, 48, 45]\n"
          ],
          "name": "stdout"
        }
      ]
    },
    {
      "cell_type": "code",
      "metadata": {
        "id": "A333UqaSvuxt",
        "colab_type": "code",
        "colab": {},
        "outputId": "a7ad102a-8ff6-40a0-ffb9-12c6113bc3e4"
      },
      "source": [
        "def mult(a,b,c):\n",
        "    return a*b*c\n",
        "\n",
        "l = [3,4,5,6,7,8,9]\n",
        "v = [1,2,3,4,5,6,5]\n",
        "z = [2,3,4,5,6,5,8]\n",
        "\n",
        "mult_results = map(mult,l,v,z)\n",
        "print(list(mult_results))\n"
      ],
      "execution_count": null,
      "outputs": [
        {
          "output_type": "stream",
          "text": [
            "[6, 24, 60, 120, 210, 240, 360]\n"
          ],
          "name": "stdout"
        }
      ]
    },
    {
      "cell_type": "code",
      "metadata": {
        "id": "mzfT4vLyvuxx",
        "colab_type": "code",
        "colab": {},
        "outputId": "3df00136-40de-490a-e32f-160e6b4b08c2"
      },
      "source": [
        "\n",
        "l = [3,4,5,6,7,8,9]\n",
        "v = [1,2,3,4,5,6,5]\n",
        "\n",
        "mult_results = map(pow,l,v)\n",
        "print(list(mult_results))"
      ],
      "execution_count": null,
      "outputs": [
        {
          "output_type": "stream",
          "text": [
            "[3, 16, 125, 1296, 16807, 262144, 59049]\n"
          ],
          "name": "stdout"
        }
      ]
    },
    {
      "cell_type": "code",
      "metadata": {
        "id": "si3tFatVvuxy",
        "colab_type": "code",
        "colab": {},
        "outputId": "5872ab83-11f9-440e-ffd8-44a0b4e45f79"
      },
      "source": [
        "#The filter() function calls the specified function which returns boolen for each item of the specified iterable (list)\n",
        "\n",
        "#filter(function, iterable) --> filter object\t\n",
        "def isPrime(n):\n",
        "    for i in range(2,n):\n",
        "        if n%i == 0:\n",
        "            return False\n",
        "    return True\n",
        "\n",
        "l = [3,4,5,6,7,8,9]\n",
        "\n",
        "primes = list(filter(isPrime,l))\n",
        "print(primes)\n"
      ],
      "execution_count": null,
      "outputs": [
        {
          "output_type": "stream",
          "text": [
            "[3, 5, 7]\n"
          ],
          "name": "stdout"
        }
      ]
    },
    {
      "cell_type": "code",
      "metadata": {
        "id": "jxhTJjD4vux1",
        "colab_type": "code",
        "colab": {},
        "outputId": "8db0dd2b-0ae8-44b8-e24e-bfc233fc9a06"
      },
      "source": [
        "# Reduce \n",
        "# functools \n",
        "\n",
        "#reduce\t\tThe reduce() function is defined in the functools module. Like the map and filter functions, the reduce() function receives two arguments, a function and an iterable. However, it doesn't return another iterable, instead it returns a single value\t\t#\n",
        "\t\n",
        "    \n",
        "import functools\n",
        "import operator\n",
        "\n",
        "def mult(a,b):\n",
        "    return a*b\n",
        "    \n",
        "l = [3,4,5,6,7,8,9]\n",
        "\n",
        "#print(sum(l))\n",
        "res = functools.reduce(operator.mod,l)\n",
        "print(res)"
      ],
      "execution_count": null,
      "outputs": [
        {
          "output_type": "stream",
          "text": [
            "3\n"
          ],
          "name": "stdout"
        }
      ]
    },
    {
      "cell_type": "code",
      "metadata": {
        "id": "giB9_SCevux3",
        "colab_type": "code",
        "colab": {},
        "outputId": "e51ed79d-d123-4e88-9d0d-2fb2b9d541c7"
      },
      "source": [
        "list([1])"
      ],
      "execution_count": null,
      "outputs": [
        {
          "output_type": "execute_result",
          "data": {
            "text/plain": [
              "[1]"
            ]
          },
          "metadata": {
            "tags": []
          },
          "execution_count": 85
        }
      ]
    },
    {
      "cell_type": "code",
      "metadata": {
        "id": "nUV9MGRkvux4",
        "colab_type": "code",
        "colab": {}
      },
      "source": [
        ""
      ],
      "execution_count": null,
      "outputs": []
    }
  ]
}