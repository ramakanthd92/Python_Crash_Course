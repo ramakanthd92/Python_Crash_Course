{
 "cells": [
  {
   "cell_type": "code",
   "execution_count": 3,
   "metadata": {},
   "outputs": [],
   "source": [
    "l = [1,2,3,4]\n",
    "map_list = map(lambda x:x*2, l)"
   ]
  },
  {
   "cell_type": "code",
   "execution_count": 4,
   "metadata": {},
   "outputs": [
    {
     "data": {
      "text/plain": [
       "[2, 4, 6, 8]"
      ]
     },
     "execution_count": 4,
     "metadata": {},
     "output_type": "execute_result"
    }
   ],
   "source": [
    "list(map_list)"
   ]
  },
  {
   "cell_type": "code",
   "execution_count": 8,
   "metadata": {},
   "outputs": [
    {
     "name": "stdout",
     "output_type": "stream",
     "text": [
      "<map object at 0x102daa250>\n"
     ]
    }
   ],
   "source": [
    "print(map_list)\n",
    "for i in map_list:\n",
    "    print(i)"
   ]
  },
  {
   "cell_type": "code",
   "execution_count": 17,
   "metadata": {},
   "outputs": [
    {
     "name": "stdout",
     "output_type": "stream",
     "text": [
      "GeeksforGeeks\n",
      "GeeksforGeeks\n",
      "Calling private member of base class: \n",
      "GeeksforGeeks\n"
     ]
    }
   ],
   "source": [
    "# Python program to  \n",
    "# demonstrate private members \n",
    "  \n",
    "# Creating a Base class \n",
    "class Base: \n",
    "    def __init__(self): \n",
    "        self.a = \"GeeksforGeeks\"\n",
    "        self._c = \"GeeksforGeeks\"\n",
    "  \n",
    "# Creating a derived class \n",
    "class Derived(Base): \n",
    "    def __init__(self): \n",
    "          \n",
    "        # Calling constructor of \n",
    "        # Base class \n",
    "        Base.__init__(self)  \n",
    "        print(\"Calling private member of base class: \") \n",
    "        print(self._c) \n",
    "# Driver code \n",
    "obj1 = Base() \n",
    "print(obj1.a) \n",
    "  \n",
    "print(obj1._c)\n",
    "# Uncommenting print(obj1.c) will \n",
    "# raise an AttributeError \n",
    "  \n",
    "obj2 = Derived()\n",
    "# Uncommenting obj2 = Derived() will \n",
    "# also raise an AtrributeError as \n",
    "# private member of base class  \n",
    "# is called inside derived class "
   ]
  },
  {
   "cell_type": "code",
   "execution_count": null,
   "metadata": {},
   "outputs": [],
   "source": [
    "# Python code to illustrate how mangling works \n",
    "class Map: \n",
    "    def __init__(self, iterate): \n",
    "        self.list = [] \n",
    "        self.__geek(iterate) \n",
    "    def geek(self, iterate): \n",
    "        for item in iterate: \n",
    "            self.list.append(item) \n",
    "  \n",
    "    # private copy of original geek() method \n",
    "    __geek = geek    \n",
    "  \n",
    "class MapSubclass(Map): \n",
    "      \n",
    "    # provides new signature for geek() but \n",
    "    # does not break __init__() \n",
    "    def geek(self, key, value):         \n",
    "        for i in zip(keys, values): \n",
    "            self.list.append(i) \n"
   ]
  },
  {
   "cell_type": "code",
   "execution_count": 25,
   "metadata": {},
   "outputs": [
    {
     "name": "stdout",
     "output_type": "stream",
     "text": [
      "Name:  R2J\n",
      "Roll:  1706256\n",
      "R2J 1706256\n",
      "PJ 121414\n"
     ]
    }
   ],
   "source": [
    "# program to illustrate protected \n",
    "# data members in a class  \n",
    "  \n",
    "  \n",
    "# Defining a class \n",
    "class Geek:  \n",
    "      \n",
    "    # protected data members  \n",
    "    _name = \"R2J\"\n",
    "    _roll = 1706256\n",
    "    __name__ = \"PJ\"\n",
    "    __roll__ = 121414\n",
    "      \n",
    "    # public member function  \n",
    "    def displayNameAndRoll(self):  \n",
    "  \n",
    "        # accessing protected data members  \n",
    "        print(\"Name: \", self._name)  \n",
    "        print(\"Roll: \", self._roll)  \n",
    "  \n",
    "  \n",
    "# creating objects of the class          \n",
    "obj = Geek()  \n",
    "  \n",
    "# calling public member  \n",
    "# functions of the class  \n",
    "obj.displayNameAndRoll()  \n",
    "print(obj._name, obj._roll)\n",
    " \n",
    "print(obj.__name__, obj.__roll__)\n"
   ]
  },
  {
   "cell_type": "code",
   "execution_count": 27,
   "metadata": {},
   "outputs": [
    {
     "name": "stdout",
     "output_type": "stream",
     "text": [
      "Length:  80\n",
      "Breadth:  50\n"
     ]
    },
    {
     "ename": "AttributeError",
     "evalue": "'Rectangle' object has no attribute '_Rectangle__length'",
     "output_type": "error",
     "traceback": [
      "\u001b[0;31m---------------------------------------------------------------------------\u001b[0m",
      "\u001b[0;31mAttributeError\u001b[0m                            Traceback (most recent call last)",
      "\u001b[0;32m<ipython-input-27-8790dd6136d3>\u001b[0m in \u001b[0;36m<module>\u001b[0;34m\u001b[0m\n\u001b[1;32m     46\u001b[0m \u001b[0;31m# calling public member\u001b[0m\u001b[0;34m\u001b[0m\u001b[0;34m\u001b[0m\u001b[0;34m\u001b[0m\u001b[0m\n\u001b[1;32m     47\u001b[0m \u001b[0;31m# functions of the class\u001b[0m\u001b[0;34m\u001b[0m\u001b[0;34m\u001b[0m\u001b[0;34m\u001b[0m\u001b[0m\n\u001b[0;32m---> 48\u001b[0;31m \u001b[0mobj\u001b[0m\u001b[0;34m.\u001b[0m\u001b[0mcalculateArea\u001b[0m\u001b[0;34m(\u001b[0m\u001b[0;34m)\u001b[0m\u001b[0;34m\u001b[0m\u001b[0;34m\u001b[0m\u001b[0m\n\u001b[0m",
      "\u001b[0;32m<ipython-input-27-8790dd6136d3>\u001b[0m in \u001b[0;36mcalculateArea\u001b[0;34m(self)\u001b[0m\n\u001b[1;32m     33\u001b[0m \u001b[0;34m\u001b[0m\u001b[0m\n\u001b[1;32m     34\u001b[0m         \u001b[0;31m# accessing protected data members of super class\u001b[0m\u001b[0;34m\u001b[0m\u001b[0;34m\u001b[0m\u001b[0;34m\u001b[0m\u001b[0m\n\u001b[0;32m---> 35\u001b[0;31m         \u001b[0mprint\u001b[0m\u001b[0;34m(\u001b[0m\u001b[0;34m\"Area: \"\u001b[0m\u001b[0;34m,\u001b[0m \u001b[0mself\u001b[0m\u001b[0;34m.\u001b[0m\u001b[0m__length\u001b[0m \u001b[0;34m*\u001b[0m \u001b[0mself\u001b[0m\u001b[0;34m.\u001b[0m\u001b[0m__breadth\u001b[0m\u001b[0;34m)\u001b[0m\u001b[0;34m\u001b[0m\u001b[0;34m\u001b[0m\u001b[0m\n\u001b[0m\u001b[1;32m     36\u001b[0m \u001b[0;34m\u001b[0m\u001b[0m\n\u001b[1;32m     37\u001b[0m \u001b[0;34m\u001b[0m\u001b[0m\n",
      "\u001b[0;31mAttributeError\u001b[0m: 'Rectangle' object has no attribute '_Rectangle__length'"
     ]
    }
   ],
   "source": [
    "# program to illustrate protected \n",
    "# data members in a class  \n",
    "  \n",
    "  \n",
    "# super class  \n",
    "class Shape:  \n",
    "      \n",
    "    # constructor  \n",
    "    def __init__(self, length, breadth):  \n",
    "        self.__length = length \n",
    "        self.__breadth = breadth  \n",
    "          \n",
    "    # public member function  \n",
    "    def displaySides(self):  \n",
    "  \n",
    "        # accessing protected data members  \n",
    "        print(\"Length: \", self.__length)  \n",
    "        print(\"Breadth: \", self.__breadth)  \n",
    "  \n",
    "  \n",
    "# derived class  \n",
    "class Rectangle(Shape):  \n",
    "  \n",
    "    # constructor  \n",
    "    def __init__(self, length, breadth):  \n",
    "  \n",
    "        # Calling the constructor of \n",
    "        # Super class \n",
    "        Shape.__init__(self, length, breadth)  \n",
    "          \n",
    "    # public member function  \n",
    "    def calculateArea(self):  \n",
    "                      \n",
    "        # accessing protected data members of super class  \n",
    "        print(\"Area: \", self.__length * self.__breadth)  \n",
    "                      \n",
    "  \n",
    "# creating objects of the  \n",
    "# derived class          \n",
    "obj = Rectangle(80, 50)  \n",
    "  \n",
    "# calling derived member  \n",
    "# functions of the class \n",
    "obj.displaySides() \n",
    "  \n",
    "# calling public member \n",
    "# functions of the class  \n",
    "obj.calculateArea()  "
   ]
  },
  {
   "cell_type": "code",
   "execution_count": 28,
   "metadata": {},
   "outputs": [],
   "source": [
    "# Python code to illustrate  \n",
    "# how single underscore works \n",
    "def _get_errors(self): \n",
    "    if self._errors is None: \n",
    "        self.full_clean() \n",
    "    return self._errors \n",
    "  \n",
    "errors = property(_get_errors) "
   ]
  },
  {
   "cell_type": "code",
   "execution_count": 29,
   "metadata": {},
   "outputs": [
    {
     "name": "stdout",
     "output_type": "stream",
     "text": [
      "<property object at 0x102fbaa70>\n"
     ]
    }
   ],
   "source": [
    "print(errors)"
   ]
  },
  {
   "cell_type": "code",
   "execution_count": 30,
   "metadata": {},
   "outputs": [
    {
     "data": {
      "text/plain": [
       "16"
      ]
     },
     "execution_count": 30,
     "metadata": {},
     "output_type": "execute_result"
    }
   ],
   "source": [
    "sqrList = map(lambda x: x*x, [1, 2, 3, 4])\n",
    "next(sqrList)\n",
    "next(sqrList)\n",
    "next(sqrList)\n",
    "next(sqrList)"
   ]
  },
  {
   "cell_type": "code",
   "execution_count": 31,
   "metadata": {},
   "outputs": [
    {
     "ename": "StopIteration",
     "evalue": "",
     "output_type": "error",
     "traceback": [
      "\u001b[0;31m---------------------------------------------------------------------------\u001b[0m",
      "\u001b[0;31mStopIteration\u001b[0m                             Traceback (most recent call last)",
      "\u001b[0;32m<ipython-input-31-61c8afcb7817>\u001b[0m in \u001b[0;36m<module>\u001b[0;34m\u001b[0m\n\u001b[0;32m----> 1\u001b[0;31m \u001b[0mnext\u001b[0m\u001b[0;34m(\u001b[0m\u001b[0msqrList\u001b[0m\u001b[0;34m)\u001b[0m\u001b[0;34m\u001b[0m\u001b[0;34m\u001b[0m\u001b[0m\n\u001b[0m",
      "\u001b[0;31mStopIteration\u001b[0m: "
     ]
    }
   ],
   "source": [
    "next(sqrList)"
   ]
  },
  {
   "cell_type": "code",
   "execution_count": 32,
   "metadata": {},
   "outputs": [
    {
     "data": {
      "text/plain": [
       "[10, 400, 27000, 2560000, 312500000]"
      ]
     },
     "execution_count": 32,
     "metadata": {},
     "output_type": "execute_result"
    }
   ],
   "source": [
    "bases=[10, 20, 30, 40, 50]\n",
    "index=[1, 2, 3, 4, 5]\n",
    "powers=list(map(pow, bases, index))\n",
    "powers"
   ]
  },
  {
   "cell_type": "code",
   "execution_count": 37,
   "metadata": {},
   "outputs": [
    {
     "data": {
      "text/plain": [
       "[1, 4, 9, 16]"
      ]
     },
     "execution_count": 37,
     "metadata": {},
     "output_type": "execute_result"
    }
   ],
   "source": [
    "def sample(x,y,z):\n",
    "    return x+y+z\n",
    "\n",
    "x = [1,2,3,4,5]\n",
    "y = [3,4,5,6,7]\n",
    "z = [5,6,7,8,9]\n",
    "\n",
    "result = list(map(sample,x,y,z))\n",
    "result\n",
    "\n",
    "list(map(lambda x: x*x, [1, 2, 3, 4]))"
   ]
  },
  {
   "cell_type": "code",
   "execution_count": 34,
   "metadata": {},
   "outputs": [
    {
     "name": "stdout",
     "output_type": "stream",
     "text": [
      "Prime numbers between 1-10: [3, 5, 7, 9]\n"
     ]
    }
   ],
   "source": [
    "def isPrime(x):\n",
    "    for n in range(2,x):\n",
    "        if x%n==0:\n",
    "            return False\n",
    "        else:\n",
    "            return True\n",
    "\n",
    "fltrObj=filter(isPrime, range(10))\n",
    "print ('Prime numbers between 1-10:', list(fltrObj))"
   ]
  },
  {
   "cell_type": "code",
   "execution_count": 35,
   "metadata": {},
   "outputs": [
    {
     "name": "stdout",
     "output_type": "stream",
     "text": [
      "[0, 2, 4, 6, 8]\n"
     ]
    }
   ],
   "source": [
    "fltrObj=filter(lambda x: x%2==0, range(10))\n",
    "print(list(fltrObj))"
   ]
  },
  {
   "cell_type": "code",
   "execution_count": 46,
   "metadata": {},
   "outputs": [
    {
     "ename": "TypeError",
     "evalue": "mult() missing 1 required positional argument: 'z'",
     "output_type": "error",
     "traceback": [
      "\u001b[0;31m---------------------------------------------------------------------------\u001b[0m",
      "\u001b[0;31mTypeError\u001b[0m                                 Traceback (most recent call last)",
      "\u001b[0;32m<ipython-input-46-9fac2891f3b9>\u001b[0m in \u001b[0;36m<module>\u001b[0;34m\u001b[0m\n\u001b[1;32m      4\u001b[0m     \u001b[0;32mreturn\u001b[0m \u001b[0mx\u001b[0m\u001b[0;34m*\u001b[0m\u001b[0my\u001b[0m\u001b[0;34m*\u001b[0m\u001b[0mz\u001b[0m\u001b[0;34m\u001b[0m\u001b[0;34m\u001b[0m\u001b[0m\n\u001b[1;32m      5\u001b[0m \u001b[0;34m\u001b[0m\u001b[0m\n\u001b[0;32m----> 6\u001b[0;31m \u001b[0mfact\u001b[0m\u001b[0;34m=\u001b[0m\u001b[0mfunctools\u001b[0m\u001b[0;34m.\u001b[0m\u001b[0mreduce\u001b[0m\u001b[0;34m(\u001b[0m \u001b[0mmult\u001b[0m\u001b[0;34m,\u001b[0m\u001b[0mrange\u001b[0m\u001b[0;34m(\u001b[0m\u001b[0;36m2\u001b[0m\u001b[0;34m,\u001b[0m \u001b[0;36m10\u001b[0m\u001b[0;34m)\u001b[0m\u001b[0;34m,\u001b[0m\u001b[0;36m3\u001b[0m\u001b[0;34m)\u001b[0m\u001b[0;34m\u001b[0m\u001b[0;34m\u001b[0m\u001b[0m\n\u001b[0m\u001b[1;32m      7\u001b[0m \u001b[0mprint\u001b[0m \u001b[0;34m(\u001b[0m\u001b[0;34m'Factorial of 3: '\u001b[0m\u001b[0;34m,\u001b[0m \u001b[0mfact\u001b[0m\u001b[0;34m)\u001b[0m\u001b[0;34m\u001b[0m\u001b[0;34m\u001b[0m\u001b[0m\n",
      "\u001b[0;31mTypeError\u001b[0m: mult() missing 1 required positional argument: 'z'"
     ]
    }
   ],
   "source": [
    "import functools\n",
    "def mult(x,y,z):\n",
    "    print(\"x=\",x,\" y=\",y, \"z\" ,z)\n",
    "    return x*y*z\n",
    "\n",
    "fact=functools.reduce( mult,range(2, 10))\n",
    "print ('Factorial of 3: ', fact)"
   ]
  },
  {
   "cell_type": "code",
   "execution_count": 47,
   "metadata": {},
   "outputs": [
    {
     "name": "stdout",
     "output_type": "stream",
     "text": [
      "1 global\n",
      "5 in foo()\n"
     ]
    }
   ],
   "source": [
    "i = 1\n",
    "\n",
    "def foo():\n",
    "    i = 5\n",
    "    print(i, 'in foo()')\n",
    "\n",
    "print(i, 'global')\n",
    "\n",
    "foo()"
   ]
  },
  {
   "cell_type": "code",
   "execution_count": 48,
   "metadata": {},
   "outputs": [
    {
     "ename": "NameError",
     "evalue": "name 'foo_namespace' is not defined",
     "output_type": "error",
     "traceback": [
      "\u001b[0;31m---------------------------------------------------------------------------\u001b[0m",
      "\u001b[0;31mNameError\u001b[0m                                 Traceback (most recent call last)",
      "\u001b[0;32m<ipython-input-48-a5e1f23cf565>\u001b[0m in \u001b[0;36m<module>\u001b[0;34m\u001b[0m\n\u001b[0;32m----> 1\u001b[0;31m \u001b[0mfoo_namespace\u001b[0m\u001b[0;34m\u001b[0m\u001b[0;34m\u001b[0m\u001b[0m\n\u001b[0m",
      "\u001b[0;31mNameError\u001b[0m: name 'foo_namespace' is not defined"
     ]
    }
   ],
   "source": [
    "foo_namespace\n"
   ]
  },
  {
   "cell_type": "code",
   "execution_count": 51,
   "metadata": {},
   "outputs": [
    {
     "name": "stdout",
     "output_type": "stream",
     "text": [
      "loc in foo(): True\n",
      "loc in global: False\n",
      "glob in global: True\n"
     ]
    }
   ],
   "source": [
    "glob = 1\n",
    "\n",
    "def foo():\n",
    "    loc = 5\n",
    "    print('loc in foo():', 'loc' in locals())\n",
    "\n",
    "foo()\n",
    "print('loc in global:', 'loc' in globals())    \n",
    "print('glob in global:', 'foo' in globals())"
   ]
  },
  {
   "cell_type": "code",
   "execution_count": 55,
   "metadata": {},
   "outputs": [
    {
     "name": "stdout",
     "output_type": "stream",
     "text": [
      "1\n"
     ]
    }
   ],
   "source": [
    "print(globals()['glob'])"
   ]
  },
  {
   "cell_type": "code",
   "execution_count": 56,
   "metadata": {},
   "outputs": [
    {
     "ename": "KeyError",
     "evalue": "'loc'",
     "output_type": "error",
     "traceback": [
      "\u001b[0;31m---------------------------------------------------------------------------\u001b[0m",
      "\u001b[0;31mKeyError\u001b[0m                                  Traceback (most recent call last)",
      "\u001b[0;32m<ipython-input-56-6e4a2620e987>\u001b[0m in \u001b[0;36m<module>\u001b[0;34m\u001b[0m\n\u001b[0;32m----> 1\u001b[0;31m \u001b[0mprint\u001b[0m\u001b[0;34m(\u001b[0m\u001b[0mglobals\u001b[0m\u001b[0;34m(\u001b[0m\u001b[0;34m)\u001b[0m\u001b[0;34m[\u001b[0m\u001b[0;34m'loc'\u001b[0m\u001b[0;34m]\u001b[0m\u001b[0;34m)\u001b[0m\u001b[0;34m\u001b[0m\u001b[0;34m\u001b[0m\u001b[0m\n\u001b[0m",
      "\u001b[0;31mKeyError\u001b[0m: 'loc'"
     ]
    }
   ],
   "source": [
    "print(globals()['loc'])"
   ]
  },
  {
   "cell_type": "code",
   "execution_count": null,
   "metadata": {},
   "outputs": [],
   "source": []
  }
 ],
 "metadata": {
  "kernelspec": {
   "display_name": "Python 3",
   "language": "python",
   "name": "python3"
  },
  "language_info": {
   "codemirror_mode": {
    "name": "ipython",
    "version": 3
   },
   "file_extension": ".py",
   "mimetype": "text/x-python",
   "name": "python",
   "nbconvert_exporter": "python",
   "pygments_lexer": "ipython3",
   "version": "3.7.6"
  }
 },
 "nbformat": 4,
 "nbformat_minor": 4
}
